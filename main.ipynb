{
 "cells": [
  {
   "cell_type": "markdown",
   "id": "5bfb1e78",
   "metadata": {},
   "source": [
    "**Goal 1**"
   ]
  },
  {
   "cell_type": "code",
   "execution_count": 15,
   "id": "a4759eed",
   "metadata": {},
   "outputs": [],
   "source": [
    "import pymupdf\n",
    "import pytesseract\n",
    "import re\n",
    "from PIL import Image\n",
    "from io import BytesIO\n",
    "\n",
    "case1 = \"Lee Hui Chin v Chubb [2024] SGHC 69\"\n",
    "case2 = \"PP v Ong Tze Boon [2016] SGDC 95\"\n",
    "\n",
    "def extract_text_from_pdf(file):\n",
    "    text = \"\"\n",
    "    # Get text if there is text in the PDF\n",
    "    with pymupdf.open(file) as doc:\n",
    "        text = \"\".join([page.get_text() for page in doc])\n",
    "    # Otherwise, Use OCR to get text \n",
    "    if text == \"\":\n",
    "        text = extract_text_with_ocr(file)\n",
    "    return text\n",
    "\n",
    "def extract_text_with_ocr(file):\n",
    "    text = \"\"\n",
    "    with pymupdf.open(file) as doc:\n",
    "        for page in doc:\n",
    "            pix = page.get_pixmap(dpi=300)\n",
    "            img_bytes = pix.tobytes(\"png\")\n",
    "            img = Image.open(BytesIO(img_bytes))\n",
    "            page_text = pytesseract.image_to_string(img)\n",
    "            text += page_text\n",
    "    # Preprocess text such that text format returned is similar to non-OCR method         \n",
    "    text = pre_preprocess_ocr_text(text)\n",
    "    return text\n",
    "\n",
    "def pre_preprocess_ocr_text(text):\n",
    "    lines = text.split(\"\\n\")\n",
    "    processed_lines = []\n",
    "    insert = True\n",
    "    for line in lines:\n",
    "        words = line.split(\" \")\n",
    "        # Format text such that Paragraph Numbers are on their on separate line\n",
    "        if words[0].isnumeric():\n",
    "            processed_lines.append(words[0])\n",
    "            line = \" \".join(words[1:])\n",
    "        if line != \"\":\n",
    "            processed_lines.append(line)\n",
    "            # Insert Missing Header and Paragraph Number\n",
    "            if line[-1] == \":\" and insert == True:\n",
    "                processed_lines.append(\"Introduction\")\n",
    "                processed_lines.append(\"1\")\n",
    "                insert = False\n",
    "    return \"\\n\".join(processed_lines)\n",
    "\n",
    "def clean_lines(text):\n",
    "    version_name_pattern = re.compile(r\"version\\s+no\\s+\\d+:\\s+\\d{1,2}\\s+[A-Za-z]{3}\\s+\\d{4}\\s+\\(\\d{2}:\\d{2}\\s+hrs\\)\", re.IGNORECASE)\n",
    "    note_pattern = re.compile(r\"\\[nete:\\s*\\d+\\]\", re.IGNORECASE)\n",
    "    lines = text.split(\"\\n\")\n",
    "    cleaned_lines = []\n",
    "    while lines:\n",
    "        if re.fullmatch(version_name_pattern, lines[0]):\n",
    "            for i in range(4):\n",
    "                if lines:\n",
    "                    lines.pop(0)\n",
    "        if lines:\n",
    "            if re.search(note_pattern, lines[0]):\n",
    "                lines[0] = re.sub(note_pattern, \".\", lines[0])\n",
    "            cleaned_lines.append(lines[0])\n",
    "            lines.pop(0)\n",
    "    return cleaned_lines \n",
    "\n",
    "def extract_paragraphs(cleaned_lines):\n",
    "    paragraphs = []\n",
    "    current = []\n",
    "    start = False\n",
    "    lines_to_remove = find_number_of_lines_to_be_removed_from_behind(cleaned_lines)\n",
    "\n",
    "    for i in range(len(cleaned_lines)-lines_to_remove):\n",
    "        if cleaned_lines[i].isnumeric() and start == True:\n",
    "            if cleaned_lines[i-1].strip()[-1] != \".\":\n",
    "                paragraphs.append(\" \".join(current[:-1]))\n",
    "            else:\n",
    "                paragraphs.append(\" \".join(current))\n",
    "            current = []\n",
    "        current.append(cleaned_lines[i])\n",
    "        if cleaned_lines[i].strip()[-1] == \":\" and start == False:\n",
    "            start = True\n",
    "            current = []\n",
    "        \n",
    "    if current:\n",
    "        paragraphs.append(\" \".join(current))\n",
    "\n",
    "    return paragraphs[1:] \n",
    "\n",
    "def find_number_of_lines_to_be_removed_from_behind(cleaned_lines): \n",
    "    cleaned_lines = cleaned_lines[::-1]\n",
    "    lines_to_remove = 0\n",
    "    ignored_last = False\n",
    "    for line in cleaned_lines:\n",
    "        if line.strip()[-1] == \".\" and ignored_last == True:\n",
    "            break\n",
    "        if line.strip()[-1] == \".\" and ignored_last == False:\n",
    "            ignored_last = True\n",
    "        lines_to_remove += 1\n",
    "    return lines_to_remove"
   ]
  },
  {
   "cell_type": "markdown",
   "id": "c5d18249",
   "metadata": {},
   "source": [
    "**Case 1**"
   ]
  },
  {
   "cell_type": "code",
   "execution_count": 16,
   "id": "23dc11b1",
   "metadata": {},
   "outputs": [
    {
     "name": "stdout",
     "output_type": "stream",
     "text": [
      "1 The applicant, Mdm Lee Hui Chin, applied under s 10 of the Arbitration  Act 2001 (2020 Rev Ed) (“AA”) to extend the time fixed by the terms of an  arbitration agreement to refer disputes to arbitration. I granted the application  for the reasons set out below.\n",
      "2 The applicant was the policyholder of two insurance policies (the  “Policies”) taken out with the respondent, Chubb Insurance Singapore Limited.  The insured person under the Policies was the applicant’s spouse (the  “Deceased”). The Policies provided for Accidental Death Benefits (“ADB”),  which was payable in the event that death occurs as a result of an accidental  injury. The Policies also provided that any dispute was to be referred to  arbitration, and that such arbitration must be commenced three months from the  day such parties were unable to settle the dispute. On 2 April 2021, the Deceased  fell while riding his bicycle and was found unconscious in an uncovered drain.  He was brought to Ng Teng Fong General Hospital (“NTFGH”). He remained  unconscious until he was removed from life support on 9 April 2021, and he  passed away thereafter.\n",
      "3 According to the Deceased’s daughter Ms Rachel Teng (“Ms Teng”): (a) the treating doctors at NTFGH had said that the Deceased died  as a consequence of the injuries sustained in the accident, and (b) an MRI scan on 4 April 2021 showed a spinal cord injury; the  MRI report also referenced changes in the Deceased’s lungs, chest  fractures, hypoxic-ischemic encephalopathy and cardiac arrest, and  reflected that the matter was referred to the coroner in view of “unknown  aetiology of cardiac arrest in the community”. \n",
      "4 A death certificate was issued on 10 April 2021, in which the forensic  pathologist certified that the cause of death was “Coronary Artery Disease with  Pneumonia”. The State Coroner (the “Coroner”) issued a certificate on the same  day stating that as the cause of death was due to natural causes, it was  unnecessary to hold an inquiry. Thus, no autopsy was performed.\n",
      "5 On 20 April 2021, the applicant submitted claims to the respondent  under the Policies. The respondent obtained a report from NTFGH dated 27  May 2021 in which the Attending Physician’s Statement stated that: (a) the primary cause of death was likely cervical spine injury  leading to cardiac arrest; and (b) although the Coroner had reported coronary artery disease with  pneumonia, there was no evidence of acute myocardial infarct on initial  presentation. \n",
      "6 On 19 August 2021, the respondent rejected the applicant’s claims on  the ground that the cause of the Deceased’s death was due to sickness (ie,  coronary artery disease with pneumonia), which was not covered under the  Policies. \n",
      "7 Ms Teng then consulted lawyers and obtained a further medical report  dated 7 July 2022 by a neurologist, Dr Ho King Hee (“Dr Ho”). In his opinion: (a) the radiological evidence was consistent with the presence of a  vertebral fracture; (b) with respect to cause of death, the evidence was most consistent  with sudden aspiration, not with community acquired pneumonia;  (c) there was clear evidence that no heart attack (myocardial  infarction) occurred to cause cardiac arrest, and (d) there was no evidence that the Deceased died of coronary artery  disease.  Dr Ho disagreed with the Coroner’s certification that the cause of death was due  to natural causes, noting that no autopsy was performed.\n",
      "8 On 26 July 2022, Letters of Administration were granted to Ms Teng as  the administratrix of the Deceased’s estate (the “Estate”).  \n",
      "9 On 26 August 2022, the Estate’s solicitors wrote to the respondent  enclosing a copy of Dr Ho’s report. It is not disputed that the respondent took  time to review the claims and agreed to extend the time bar for commencement  of arbitration until 30 June 2023. \n",
      "10 On 30 December 2022, the respondent confirmed its previous position  that the claims were not covered by the Policies. \n",
      "11 On 10 February 2023, Ms Teng filed two notices of arbitration with the  Singapore International Arbitration Centre (“SIAC”) in connection with the two  Policies. On 28 February 2023, the respondent filed its responses to the notices  of arbitration. Among other things, the respondent stated that Ms Teng had no  locus standi. On 31 March 2023, the SIAC Court of Arbitration consolidated  both sets of proceedings. On 19 June 2023, the arbitrator for the consolidated  arbitration proceedings was appointed. \n",
      "12 The arbitrator called for a preliminary meeting on 28 June 2023. During  that preliminary meeting, Ms Teng’s solicitors applied for leave for the  applicant to be joined as co-claimant in the arbitration. On 6 July 2023, the  respondent objected to the application and requested a dismissal of the  proceedings instead. On 27 July 2023, the arbitrator dismissed the joinder  application on the basis that only the applicant (as the policy holder) had the  locus standi to commence arbitration proceedings against the respondent. \n",
      "13 On 4 August 2023, the respondent filed an application for the early  dismissal of the arbitration proceedings, and the arbitrator allowed this  application on 15 September 2023. \n",
      "14 On 6 September 2023, the applicant filed the present application to  extend the time for her to commence arbitration against the respondent.\n",
      "15 Section 10 of the AA reads:  Powers of Court to extend time for beginning of arbitral  proceedings 10.—(1)  Where the terms of an arbitration agreement to refer  future disputes to arbitration provide that a claim to which the  arbitration agreement applies is barred unless — (a) some step has been taken to begin other dispute  resolution procedures which must be exhausted before  arbitral proceedings can be begun; (b) notice to appoint an arbitrator is given; (c) an arbitrator is appointed; or (d) some other step is taken to commence arbitral  proceedings, within a time fixed by the agreement and a dispute to which the  agreement applies has arisen, the Court may, if it is of the  opinion that in the circumstances of the case undue hardship  would otherwise be caused, extend the time for such period and  on such terms as the Court thinks fit. (2)  An order of extension of time made by the Court under  subsection (1) — (a) may be made only after any available arbitral  process for obtaining an extension of time has been  exhausted; (b) may be made even though the time so fixed has  expired; and (c) does not affect the operation of section 9 or 11  or any other written law relating to the limitation of  actions.\n",
      "16 Section 10 of the AA was a substantial re-enactment of s 37 of the  Arbitration Act (Cap 10, 1985 Rev Ed). This was, in turn, in pari materia with  s 27 of the Arbitration Act 1950 (c 27 of 1950) (UK) (“AA 1950 (UK)”).\n",
      "17 In Liberian Shipping Corporation “Pegasus” v A King & Sons Ltd  [1967] 2 QB 86 (“The Pegasus”), the English Court of Appeal considered the  meaning of “undue hardship” in the context of s 27 of the AA 1950 (UK), and  the majority explained (at 98) that:  \"Undue\" there simply means excessive. It means greater  hardship than the circumstances warrant. Even though a  claimant has been at fault himself, it is an undue hardship on  him if the consequences are out of proportion to his fault. This definition of “undue hardship” was endorsed by the Singapore Court of  Appeal decision of Recovery Vehicle 1 Pte Ltd v Industries Chimiques Du  Senegal and another appeal and another matter [2021] 1 SLR 342 at [123],  albeit in a different context (ie, whether an application of the foreign limitation  period would cause undue hardship under the Foreign Limitation Periods Act  (Cap 111A, 2013 Rev Ed)). \n",
      "18 The term “undue hardship” should not be construed too narrowly:  Comdel Commodities Ltd v Siporex Trade S A [1991] 1 AC 148 at 166. Whether  there is “undue hardship” is necessarily dependent on the facts of each case.  Ultimately, the decision involves balancing the hardship that would be caused  to the applicant (if an extension of time is refused) against the fact that the  respondent would lose the protection of a contractual limitation period (if an  extension of time is granted). \n",
      "19 That said, the following non-exhaustive factors are likely to be relevant: (a) the reasons for the delay in commencing arbitration; in this  regard, the degree of fault on the applicant’s part is relevant but not  necessarily fatal; (b) the duration of the delay in making the application for extension  of time; (c) the value of the dispute;  (d) whether the intended claim can be said to be obviously  unsustainable such that granting an extension of time would be  pointless; an extension of time should not be denied on this ground save  in an obvious case; and  (e) whether the respondent has taken any steps in reliance of the fact  that the contractual limitation period has expired and if so, the prejudice  that would be suffered by the respondent if an extension of time is  granted.\n",
      "20 I granted the application for an extension of time for the applicant to  commence arbitration proceedings against the respondent for the following  reasons. \n",
      "21 First, this was not a case in which the applicant had sat idly by.  Arbitration was commenced well before the expiry of the extended time bar of  30 June 2023. The problem was that the arbitration notices were issued in Ms  Teng’s name instead of the applicant’s. The respondent pointed out that it had  objected to Ms Teng’s standing in its responses to the notices of arbitration  dated 28 February 2023, but Ms Teng’s lawyers applied to join the applicant  only on 28 June 2023. The respondent submitted that the applicant should have  commenced fresh arbitration proceedings in her own name before the extended  time bar expired; alternatively, the joinder application should have been made  earlier and the applicant could then have commenced fresh arbitrations  proceedings after the joinder application was dismissed. \n",
      "22 I accepted that the acts or omissions by Ms Teng's lawyers should be  attributed to the applicant in this case. However, in my view, there were two  mitigating factors: (a) there was an element of hindsight in the respondent’s  submissions, and (b) I noted that the arbitrator for the consolidated arbitration  proceedings was appointed only on 19 June 2023. At the end of the day, in my  view, refusing an extension of time in this case would result in hardship to the  applicant that was out of proportion to whatever fault that was attributable to  her.\n",
      "23 Second, in my view, the applicant had acted expeditiously in filing the  present application. The extended time bar expired after 30 June 2023.  However, it should be noted that the arbitrator dismissed the joinder application  on 27 July 2023, the application for early dismissal of the arbitration  proceedings was made on 4 August 2023 and the order dismissing the  arbitration proceedings was made on 15 September 2023, ie, after this  application was filed on 6 September 2023. \n",
      "24 Third, the amount involved was significant. The value of the claims  under the Policies amounted to $406,000.\n",
      "25 Fourth, in the light of Dr Ho’s opinion, it was by no means clear that the  applicant’s claims were obviously unsustainable. \n",
      "26 Fifth, there was no evidence that the respondent had taken any step in  reliance of the fact that the extended time bar had expired. \n",
      "27 In my view, the hardship that would be caused to the applicant, if an  extension of time was not granted, far outweighed the fact that granting the  extension of time would deprive the respondent of its contractual time bar. \n",
      "28  For the reasons above, I allowed the application. The applicant agreed  that it should be liable to the respondent for the costs of this application.  Accordingly, I ordered the applicant to pay costs to the respondent fixed at  $10,000, including disbursements. \n"
     ]
    }
   ],
   "source": [
    "# case 1\n",
    "c1_text = extract_text_from_pdf(f\"cases/{case1}.pdf\")\n",
    "c1_cleaned_lines = clean_lines(c1_text)\n",
    "c1_paragraph = extract_paragraphs(c1_cleaned_lines)\n",
    "\n",
    "for para in c1_paragraph:\n",
    "    print(para)"
   ]
  },
  {
   "cell_type": "markdown",
   "id": "aef99ecf",
   "metadata": {},
   "source": [
    "**Case 2**"
   ]
  },
  {
   "cell_type": "code",
   "execution_count": 17,
   "id": "72b12c1c",
   "metadata": {},
   "outputs": [
    {
     "name": "stdout",
     "output_type": "stream",
     "text": [
      "1 The Accused, 48 years old, pleaded guilty to a charge under section 65(b) of the Road Traffic Act (RTA), Chapter 276, in that he: “did drive motorcar SJP 8123Z, at the junction of River Valley Road by Hoot Kiam Road, Singapore, without reasonable consideration for other persons using the road, to wit, by failing to conform to the red light signal whilst going straight along River Valley Road by Zion Road, and resulting in a collision with motor taxi SHC 2261P, which was travelling from [his] left to right along Zion Road........”.\n",
      "2 This offence under section 65(b), RTA is punishable with a fine not exceeding $1,000 or to imprisonment for a term not exceeding 6 months or to both.\n",
      "3 I fined the Accused a sum of $800 (in default 5 days’ imprisonment) and imposed a disqualification of 3 months on all classes of licences on him. The Accused is dissatisfied with the order of disqualification and is appealing against it.\n",
      "4 This accident happened on 13 April 2014, at about 6:19 am.\n",
      "5 When the Accused failed to conform to the red light signal as he was driving his vehicle, going straight along River Valley Road, it resulted in a collision with a taxi which was travelling from the Accused’s left to right along Zion Road. The in-car video footage from the taxi showed that the taxi was proceeding straight across the junction on a green light in his direction. On impact, the traffic light was still showing red in the direction of travel of the Accused. There was no report of any malfunction of the traffic lights at the junction.\n",
      "6 As a result of the collision, the taxi driver, a 44 year-old Mr Hong Wai Kit, suffered muscle sprains on his neck, right shoulder and right lower back. He sought his own medical attention and was given 3 days of medical leave. Where property damage was concerned, the front portion of the taxi was damaged. As for the Accused’s vehicle, it was dented in the front.\n",
      "7 At the time of the accident, the weather was fine and road surface was dry. Traffic flow was light and the visibility was clear.\n",
      "8 The Accused, a first offender, through his Defence Counsel, informed the Court he had slowed down as he approached the junction. As far as he could remember, the traffic light signal was green. At paragraph 6 of the mitigation, the Defence Counsel stated that the Accused “was paying close attention to the people milling at the left side of the road ahead”. As he travelled across the junction slowly, he heard a screeching sound and noticed a vehicle coming from his left (Zion Road). The Accused swerved to the right but could not avoid the collision. Accused “was distracted by the people milling on the other side of River Valley Road and he might not have noticed that the traffic light had turned red for his side when he entered the junction”.\n",
      "9 Defence Counsel mitigated that the accident had occurred due to a momentary lapse in observation and emphasized that the Accused was not driving recklessly or taking unnecessary risks. The Accused had always been a careful and skilful driver. He was not speeding. Counsel added that ironically, the Accused was trying to be careful and was looking out for people along the road side before he entered the junction. The Accused knows he could have kept a better look out and is sorry for what had happened.\n",
      "10 In seeking to persuade the Court not to impose a disqualification on the Accused, Defence Counsel informed the Court that the Accused, a person actively involved in social and charitable causes, drives everywhere to attend to his busy itinerary of work, social and community activities. Driving himself around saves him valuable time. Defence Counsel submitted that the Accused’s work and philanthropic activities would be seriously hampered if the Accused were to suffer a driving disqualification.\n",
      "11 Lastly, Defence Counsel stressed that there were no aggravating factors and that the Accused’s driving was not so grossly inattentive or inconsiderate as to warrant any punishment other than an appropriate fine.\n",
      "12 The Prosecution had no submission on sentence. In addition to the fine of $800, I ordered the Accused to be disqualified from driving for a period of 3 months. Even though not mandatory, I was of the view that a term of disqualification was necessary as part of the sentence to be imposed for this offence.\n",
      "13 The discretion to impose an order of disqualification is derived from Section 42 of the Road Traffic Act. Section 42, RTA states that a court may order a disqualification on a person who “is convicted of any offence in connection with the driving of a motor vehicle”. In considering the appropriate sentence for a person convicted of any offence connected with the driving of a motor vehicle, it must be accepted that the statute provides for an order of disqualification to be a clear sentencing option for a court dealing with driving offences. This should also be the realistic expectation of accused persons as they come before the Court on a charge connected with the driving of a motor vehicle - that an order of disqualification may certainly be an integral component of the total sentence which the Court may eventually impose.\n",
      "14 Whilst the sentence of a fine or a jail term when meted out for these offences will certainly serve its objective, it has been suggested that an order of disqualification is a power which may be “employ[ed] more frequently, since it is disqualification which the motorist fears rather than a fine. Disqualification serves a double purpose, in that it is firstly, the punishment most feared by the motorist and therefore the most effective deterrent, and secondly, it keeps the careless of dangerous driver off the road for a period and does that practical amount of good”, .\n",
      "15 A similar sentiment was expressed in the case of Public Prosecutor v Mohd Isa [1963] MLJ 135. This was a case which involved a mandatory 1-year disqualification period. Judge Thomson CJ ended his oral judgment with these words: \"...... in my experience the most satisfactory penalty for most motoring offences is disqualification. A fine is paid once and then forgotten. A disqualification means that for 365 days, the accused person is reminded every morning that it is a bad thing to break the law and so where an order for disqualification is made, except of course in serious cases of being drunk in charge or dangerous driving, the quantum of the monetary penalty imposed is of minor importance”.\n",
      "16 The fact that the Accused in this present case has chosen to appeal only against the disqualification period imposed on him, is testament of the correctness of the views held above.\n",
      "17 It is imperative for a motorist to obey traffic light signals. This must be one of the most fundamental rules of driving for any motorist. A simple obedience to traffic light signals by motorists is crucial in ensuring traffic order on the roads. In this case, the offence of driving without reasonable consideration committed by the Accused involved an illegality, that of failing to conform to a red light signal, which resulted in a collision with a vehicle who had the right of way. I share Defence Counsel’s thoughts, that fortunately, the taxi driver in this case suffered only slight injuries in this accident.\n",
      "18 I was not particularly impressed with the reasons the Accused gave for his failure to conform to the red light signal. The Accused himself stated that he was familiar with this road as he takes this route to Mount Faber for his training every Sunday morning at about 6 am. Instead of keeping a look-out for the traffic lights as he approached them, being well-aware of them, he allowed himself to be distracted by the people milling on the left side of the road and failed to notice the red traffic light signal in his direction of travel.\n",
      "19 Beating a red light is a non-excusable conduct by any motorist, regardless of the reason. As recognised, “driving is an inherently dangerous activity. It is also a privilege accorded to persons, who through a series of properly administered tests, have demonstrated that they are capable of meeting the standards expected of a reasonably competent driver. Hence, when [one] elects to drive a vehicle, they should expect the law to hold them to these standards”!\"*te: 2], with obeying a traffic light signal being one of the most basic expectations.\n",
      "20 A disqualification order combines three sentencing objectives: punishment, protection of the public and deterrence!note: 3], In the present case, I was of the view that a term of disqualification was warranted. Deterrence would be one of the key objectives in sentencing offences of this nature and an order of disqualification would meet that objective aptly. Section 65(b), RTA provides for a maximum fine of $1000 or to imprisonment for a term not exceeding 6 months, or to both. Given the facts of this case, a fine would suffice. An $800 fine, as the one I have imposed, may be “paid once and forgotten”. It would be the disqualification, with its attendant inconvenience and costs, that would serve to emphasize to the Accused the need to be a more careful and responsible driver on the roads in future.\n",
      "21 Considering the totality of circumstances of this case, I imposed a 3-month disqualification on the Accused, apart from the $800 fine. It is a term of disqualification sufficient to achieve its sentencing objectives, yet not too punishing on the Accused. This term of disqualification is within the range of terms of disqualification generally imposed in the Traffic Court for plead-guilty cases of a similar nature under section 65(b) of the RTA. The sentences imposed in such cases are finely distinguished by the presence of any aggravating or mitigating features, including the injuries of the victims involved.\n",
      "22 The Accused’s driving ban has been stayed, pending the hearing of the appeal, or until such time the appeal lapses.\n"
     ]
    }
   ],
   "source": [
    "# case 2\n",
    "c2_text = extract_text_from_pdf(f\"cases/{case2}.pdf\")\n",
    "c2_cleaned_lines = clean_lines(c2_text)\n",
    "c2_paragraph = extract_paragraphs(c2_cleaned_lines)\n",
    "\n",
    "for para in c2_paragraph:\n",
    "    print(para)"
   ]
  },
  {
   "cell_type": "markdown",
   "id": "f5b32a72",
   "metadata": {},
   "source": [
    "**Goal 2**"
   ]
  },
  {
   "cell_type": "code",
   "execution_count": 18,
   "id": "55d2a168",
   "metadata": {},
   "outputs": [],
   "source": [
    "def extract_paragraphs(cleaned_lines):\n",
    "    paragraphs = []\n",
    "    current = []\n",
    "    start = False\n",
    "    lines_to_remove = find_number_of_lines_to_be_removed_from_behind(cleaned_lines)\n",
    "\n",
    "    for i in range(len(cleaned_lines)-lines_to_remove):\n",
    "        if cleaned_lines[i].isnumeric() and start == True:\n",
    "            paragraph = {}\n",
    "            if current[0].isnumeric():\n",
    "                paragraph[\"para_num\"] = int(current[0])\n",
    "            if cleaned_lines[i-1].strip()[-1] != \".\":\n",
    "                paragraph[\"text\"] = \" \".join(current[1:-1])\n",
    "            else:\n",
    "                paragraph[\"text\"] = \" \".join(current[1:])\n",
    "            paragraphs.append(paragraph)\n",
    "            current = []\n",
    "        current.append(cleaned_lines[i])\n",
    "        if cleaned_lines[i].strip()[-1] == \":\" and start == False:\n",
    "            start = True\n",
    "            current = []\n",
    "        \n",
    "    if current:\n",
    "        paragraph = {}\n",
    "        paragraph[\"para_num\"] = int(current[0])\n",
    "        paragraph[\"text\"] = \" \".join(current[1:])\n",
    "        paragraphs.append(paragraph) \n",
    "\n",
    "    return paragraphs[1:]  "
   ]
  },
  {
   "cell_type": "markdown",
   "id": "34fe2fde",
   "metadata": {},
   "source": [
    "**Case 1**"
   ]
  },
  {
   "cell_type": "code",
   "execution_count": 19,
   "id": "7ed2c886",
   "metadata": {},
   "outputs": [
    {
     "name": "stdout",
     "output_type": "stream",
     "text": [
      "{'para_num': 1, 'text': 'The applicant, Mdm Lee Hui Chin, applied under s 10 of the Arbitration  Act 2001 (2020 Rev Ed) (“AA”) to extend the time fixed by the terms of an  arbitration agreement to refer disputes to arbitration. I granted the application  for the reasons set out below.'}\n",
      "{'para_num': 2, 'text': 'The applicant was the policyholder of two insurance policies (the  “Policies”) taken out with the respondent, Chubb Insurance Singapore Limited.  The insured person under the Policies was the applicant’s spouse (the  “Deceased”). The Policies provided for Accidental Death Benefits (“ADB”),  which was payable in the event that death occurs as a result of an accidental  injury. The Policies also provided that any dispute was to be referred to  arbitration, and that such arbitration must be commenced three months from the  day such parties were unable to settle the dispute. On 2 April 2021, the Deceased  fell while riding his bicycle and was found unconscious in an uncovered drain.  He was brought to Ng Teng Fong General Hospital (“NTFGH”). He remained  unconscious until he was removed from life support on 9 April 2021, and he  passed away thereafter.'}\n",
      "{'para_num': 3, 'text': 'According to the Deceased’s daughter Ms Rachel Teng (“Ms Teng”): (a) the treating doctors at NTFGH had said that the Deceased died  as a consequence of the injuries sustained in the accident, and (b) an MRI scan on 4 April 2021 showed a spinal cord injury; the  MRI report also referenced changes in the Deceased’s lungs, chest  fractures, hypoxic-ischemic encephalopathy and cardiac arrest, and  reflected that the matter was referred to the coroner in view of “unknown  aetiology of cardiac arrest in the community”. '}\n",
      "{'para_num': 4, 'text': 'A death certificate was issued on 10 April 2021, in which the forensic  pathologist certified that the cause of death was “Coronary Artery Disease with  Pneumonia”. The State Coroner (the “Coroner”) issued a certificate on the same  day stating that as the cause of death was due to natural causes, it was  unnecessary to hold an inquiry. Thus, no autopsy was performed.'}\n",
      "{'para_num': 5, 'text': 'On 20 April 2021, the applicant submitted claims to the respondent  under the Policies. The respondent obtained a report from NTFGH dated 27  May 2021 in which the Attending Physician’s Statement stated that: (a) the primary cause of death was likely cervical spine injury  leading to cardiac arrest; and (b) although the Coroner had reported coronary artery disease with  pneumonia, there was no evidence of acute myocardial infarct on initial  presentation. '}\n",
      "{'para_num': 6, 'text': 'On 19 August 2021, the respondent rejected the applicant’s claims on  the ground that the cause of the Deceased’s death was due to sickness (ie,  coronary artery disease with pneumonia), which was not covered under the  Policies. '}\n",
      "{'para_num': 7, 'text': 'Ms Teng then consulted lawyers and obtained a further medical report  dated 7 July 2022 by a neurologist, Dr Ho King Hee (“Dr Ho”). In his opinion: (a) the radiological evidence was consistent with the presence of a  vertebral fracture; (b) with respect to cause of death, the evidence was most consistent  with sudden aspiration, not with community acquired pneumonia;  (c) there was clear evidence that no heart attack (myocardial  infarction) occurred to cause cardiac arrest, and (d) there was no evidence that the Deceased died of coronary artery  disease.  Dr Ho disagreed with the Coroner’s certification that the cause of death was due  to natural causes, noting that no autopsy was performed.'}\n",
      "{'para_num': 8, 'text': 'On 26 July 2022, Letters of Administration were granted to Ms Teng as  the administratrix of the Deceased’s estate (the “Estate”).  '}\n",
      "{'para_num': 9, 'text': 'On 26 August 2022, the Estate’s solicitors wrote to the respondent  enclosing a copy of Dr Ho’s report. It is not disputed that the respondent took  time to review the claims and agreed to extend the time bar for commencement  of arbitration until 30 June 2023. '}\n",
      "{'para_num': 10, 'text': 'On 30 December 2022, the respondent confirmed its previous position  that the claims were not covered by the Policies. '}\n",
      "{'para_num': 11, 'text': 'On 10 February 2023, Ms Teng filed two notices of arbitration with the  Singapore International Arbitration Centre (“SIAC”) in connection with the two  Policies. On 28 February 2023, the respondent filed its responses to the notices  of arbitration. Among other things, the respondent stated that Ms Teng had no  locus standi. On 31 March 2023, the SIAC Court of Arbitration consolidated  both sets of proceedings. On 19 June 2023, the arbitrator for the consolidated  arbitration proceedings was appointed. '}\n",
      "{'para_num': 12, 'text': 'The arbitrator called for a preliminary meeting on 28 June 2023. During  that preliminary meeting, Ms Teng’s solicitors applied for leave for the  applicant to be joined as co-claimant in the arbitration. On 6 July 2023, the  respondent objected to the application and requested a dismissal of the  proceedings instead. On 27 July 2023, the arbitrator dismissed the joinder  application on the basis that only the applicant (as the policy holder) had the  locus standi to commence arbitration proceedings against the respondent. '}\n",
      "{'para_num': 13, 'text': 'On 4 August 2023, the respondent filed an application for the early  dismissal of the arbitration proceedings, and the arbitrator allowed this  application on 15 September 2023. '}\n",
      "{'para_num': 14, 'text': 'On 6 September 2023, the applicant filed the present application to  extend the time for her to commence arbitration against the respondent.'}\n",
      "{'para_num': 15, 'text': 'Section 10 of the AA reads:  Powers of Court to extend time for beginning of arbitral  proceedings 10.—(1)  Where the terms of an arbitration agreement to refer  future disputes to arbitration provide that a claim to which the  arbitration agreement applies is barred unless — (a) some step has been taken to begin other dispute  resolution procedures which must be exhausted before  arbitral proceedings can be begun; (b) notice to appoint an arbitrator is given; (c) an arbitrator is appointed; or (d) some other step is taken to commence arbitral  proceedings, within a time fixed by the agreement and a dispute to which the  agreement applies has arisen, the Court may, if it is of the  opinion that in the circumstances of the case undue hardship  would otherwise be caused, extend the time for such period and  on such terms as the Court thinks fit. (2)  An order of extension of time made by the Court under  subsection (1) — (a) may be made only after any available arbitral  process for obtaining an extension of time has been  exhausted; (b) may be made even though the time so fixed has  expired; and (c) does not affect the operation of section 9 or 11  or any other written law relating to the limitation of  actions.'}\n",
      "{'para_num': 16, 'text': 'Section 10 of the AA was a substantial re-enactment of s 37 of the  Arbitration Act (Cap 10, 1985 Rev Ed). This was, in turn, in pari materia with  s 27 of the Arbitration Act 1950 (c 27 of 1950) (UK) (“AA 1950 (UK)”).'}\n",
      "{'para_num': 17, 'text': 'In Liberian Shipping Corporation “Pegasus” v A King & Sons Ltd  [1967] 2 QB 86 (“The Pegasus”), the English Court of Appeal considered the  meaning of “undue hardship” in the context of s 27 of the AA 1950 (UK), and  the majority explained (at 98) that:  \"Undue\" there simply means excessive. It means greater  hardship than the circumstances warrant. Even though a  claimant has been at fault himself, it is an undue hardship on  him if the consequences are out of proportion to his fault. This definition of “undue hardship” was endorsed by the Singapore Court of  Appeal decision of Recovery Vehicle 1 Pte Ltd v Industries Chimiques Du  Senegal and another appeal and another matter [2021] 1 SLR 342 at [123],  albeit in a different context (ie, whether an application of the foreign limitation  period would cause undue hardship under the Foreign Limitation Periods Act  (Cap 111A, 2013 Rev Ed)). '}\n",
      "{'para_num': 18, 'text': 'The term “undue hardship” should not be construed too narrowly:  Comdel Commodities Ltd v Siporex Trade S A [1991] 1 AC 148 at 166. Whether  there is “undue hardship” is necessarily dependent on the facts of each case.  Ultimately, the decision involves balancing the hardship that would be caused  to the applicant (if an extension of time is refused) against the fact that the  respondent would lose the protection of a contractual limitation period (if an  extension of time is granted). '}\n",
      "{'para_num': 19, 'text': 'That said, the following non-exhaustive factors are likely to be relevant: (a) the reasons for the delay in commencing arbitration; in this  regard, the degree of fault on the applicant’s part is relevant but not  necessarily fatal; (b) the duration of the delay in making the application for extension  of time; (c) the value of the dispute;  (d) whether the intended claim can be said to be obviously  unsustainable such that granting an extension of time would be  pointless; an extension of time should not be denied on this ground save  in an obvious case; and  (e) whether the respondent has taken any steps in reliance of the fact  that the contractual limitation period has expired and if so, the prejudice  that would be suffered by the respondent if an extension of time is  granted.'}\n",
      "{'para_num': 20, 'text': 'I granted the application for an extension of time for the applicant to  commence arbitration proceedings against the respondent for the following  reasons. '}\n",
      "{'para_num': 21, 'text': 'First, this was not a case in which the applicant had sat idly by.  Arbitration was commenced well before the expiry of the extended time bar of  30 June 2023. The problem was that the arbitration notices were issued in Ms  Teng’s name instead of the applicant’s. The respondent pointed out that it had  objected to Ms Teng’s standing in its responses to the notices of arbitration  dated 28 February 2023, but Ms Teng’s lawyers applied to join the applicant  only on 28 June 2023. The respondent submitted that the applicant should have  commenced fresh arbitration proceedings in her own name before the extended  time bar expired; alternatively, the joinder application should have been made  earlier and the applicant could then have commenced fresh arbitrations  proceedings after the joinder application was dismissed. '}\n",
      "{'para_num': 22, 'text': \"I accepted that the acts or omissions by Ms Teng's lawyers should be  attributed to the applicant in this case. However, in my view, there were two  mitigating factors: (a) there was an element of hindsight in the respondent’s  submissions, and (b) I noted that the arbitrator for the consolidated arbitration  proceedings was appointed only on 19 June 2023. At the end of the day, in my  view, refusing an extension of time in this case would result in hardship to the  applicant that was out of proportion to whatever fault that was attributable to  her.\"}\n",
      "{'para_num': 23, 'text': 'Second, in my view, the applicant had acted expeditiously in filing the  present application. The extended time bar expired after 30 June 2023.  However, it should be noted that the arbitrator dismissed the joinder application  on 27 July 2023, the application for early dismissal of the arbitration  proceedings was made on 4 August 2023 and the order dismissing the  arbitration proceedings was made on 15 September 2023, ie, after this  application was filed on 6 September 2023. '}\n",
      "{'para_num': 24, 'text': 'Third, the amount involved was significant. The value of the claims  under the Policies amounted to $406,000.'}\n",
      "{'para_num': 25, 'text': 'Fourth, in the light of Dr Ho’s opinion, it was by no means clear that the  applicant’s claims were obviously unsustainable. '}\n",
      "{'para_num': 26, 'text': 'Fifth, there was no evidence that the respondent had taken any step in  reliance of the fact that the extended time bar had expired. '}\n",
      "{'para_num': 27, 'text': 'In my view, the hardship that would be caused to the applicant, if an  extension of time was not granted, far outweighed the fact that granting the  extension of time would deprive the respondent of its contractual time bar. '}\n",
      "{'para_num': 28, 'text': ' For the reasons above, I allowed the application. The applicant agreed  that it should be liable to the respondent for the costs of this application.  Accordingly, I ordered the applicant to pay costs to the respondent fixed at  $10,000, including disbursements. '}\n"
     ]
    }
   ],
   "source": [
    "# case 1\n",
    "c1_text = extract_text_from_pdf(f\"cases/{case1}.pdf\")\n",
    "c1_cleaned_lines = clean_lines(c1_text)\n",
    "c1_paragraph = extract_paragraphs(c1_cleaned_lines)\n",
    "\n",
    "for para in c1_paragraph:\n",
    "    print(para)"
   ]
  },
  {
   "cell_type": "markdown",
   "id": "4d01f1d0",
   "metadata": {},
   "source": [
    "**Case 2**"
   ]
  },
  {
   "cell_type": "code",
   "execution_count": 20,
   "id": "bd15612f",
   "metadata": {},
   "outputs": [
    {
     "name": "stdout",
     "output_type": "stream",
     "text": [
      "{'para_num': 1, 'text': 'The Accused, 48 years old, pleaded guilty to a charge under section 65(b) of the Road Traffic Act (RTA), Chapter 276, in that he: “did drive motorcar SJP 8123Z, at the junction of River Valley Road by Hoot Kiam Road, Singapore, without reasonable consideration for other persons using the road, to wit, by failing to conform to the red light signal whilst going straight along River Valley Road by Zion Road, and resulting in a collision with motor taxi SHC 2261P, which was travelling from [his] left to right along Zion Road........”.'}\n",
      "{'para_num': 2, 'text': 'This offence under section 65(b), RTA is punishable with a fine not exceeding $1,000 or to imprisonment for a term not exceeding 6 months or to both.'}\n",
      "{'para_num': 3, 'text': 'I fined the Accused a sum of $800 (in default 5 days’ imprisonment) and imposed a disqualification of 3 months on all classes of licences on him. The Accused is dissatisfied with the order of disqualification and is appealing against it.'}\n",
      "{'para_num': 4, 'text': 'This accident happened on 13 April 2014, at about 6:19 am.'}\n",
      "{'para_num': 5, 'text': 'When the Accused failed to conform to the red light signal as he was driving his vehicle, going straight along River Valley Road, it resulted in a collision with a taxi which was travelling from the Accused’s left to right along Zion Road. The in-car video footage from the taxi showed that the taxi was proceeding straight across the junction on a green light in his direction. On impact, the traffic light was still showing red in the direction of travel of the Accused. There was no report of any malfunction of the traffic lights at the junction.'}\n",
      "{'para_num': 6, 'text': 'As a result of the collision, the taxi driver, a 44 year-old Mr Hong Wai Kit, suffered muscle sprains on his neck, right shoulder and right lower back. He sought his own medical attention and was given 3 days of medical leave. Where property damage was concerned, the front portion of the taxi was damaged. As for the Accused’s vehicle, it was dented in the front.'}\n",
      "{'para_num': 7, 'text': 'At the time of the accident, the weather was fine and road surface was dry. Traffic flow was light and the visibility was clear.'}\n",
      "{'para_num': 8, 'text': 'The Accused, a first offender, through his Defence Counsel, informed the Court he had slowed down as he approached the junction. As far as he could remember, the traffic light signal was green. At paragraph 6 of the mitigation, the Defence Counsel stated that the Accused “was paying close attention to the people milling at the left side of the road ahead”. As he travelled across the junction slowly, he heard a screeching sound and noticed a vehicle coming from his left (Zion Road). The Accused swerved to the right but could not avoid the collision. Accused “was distracted by the people milling on the other side of River Valley Road and he might not have noticed that the traffic light had turned red for his side when he entered the junction”.'}\n",
      "{'para_num': 9, 'text': 'Defence Counsel mitigated that the accident had occurred due to a momentary lapse in observation and emphasized that the Accused was not driving recklessly or taking unnecessary risks. The Accused had always been a careful and skilful driver. He was not speeding. Counsel added that ironically, the Accused was trying to be careful and was looking out for people along the road side before he entered the junction. The Accused knows he could have kept a better look out and is sorry for what had happened.'}\n",
      "{'para_num': 10, 'text': 'In seeking to persuade the Court not to impose a disqualification on the Accused, Defence Counsel informed the Court that the Accused, a person actively involved in social and charitable causes, drives everywhere to attend to his busy itinerary of work, social and community activities. Driving himself around saves him valuable time. Defence Counsel submitted that the Accused’s work and philanthropic activities would be seriously hampered if the Accused were to suffer a driving disqualification.'}\n",
      "{'para_num': 11, 'text': 'Lastly, Defence Counsel stressed that there were no aggravating factors and that the Accused’s driving was not so grossly inattentive or inconsiderate as to warrant any punishment other than an appropriate fine.'}\n",
      "{'para_num': 12, 'text': 'The Prosecution had no submission on sentence. In addition to the fine of $800, I ordered the Accused to be disqualified from driving for a period of 3 months. Even though not mandatory, I was of the view that a term of disqualification was necessary as part of the sentence to be imposed for this offence.'}\n",
      "{'para_num': 13, 'text': 'The discretion to impose an order of disqualification is derived from Section 42 of the Road Traffic Act. Section 42, RTA states that a court may order a disqualification on a person who “is convicted of any offence in connection with the driving of a motor vehicle”. In considering the appropriate sentence for a person convicted of any offence connected with the driving of a motor vehicle, it must be accepted that the statute provides for an order of disqualification to be a clear sentencing option for a court dealing with driving offences. This should also be the realistic expectation of accused persons as they come before the Court on a charge connected with the driving of a motor vehicle - that an order of disqualification may certainly be an integral component of the total sentence which the Court may eventually impose.'}\n",
      "{'para_num': 14, 'text': 'Whilst the sentence of a fine or a jail term when meted out for these offences will certainly serve its objective, it has been suggested that an order of disqualification is a power which may be “employ[ed] more frequently, since it is disqualification which the motorist fears rather than a fine. Disqualification serves a double purpose, in that it is firstly, the punishment most feared by the motorist and therefore the most effective deterrent, and secondly, it keeps the careless of dangerous driver off the road for a period and does that practical amount of good”, .'}\n",
      "{'para_num': 15, 'text': 'A similar sentiment was expressed in the case of Public Prosecutor v Mohd Isa [1963] MLJ 135. This was a case which involved a mandatory 1-year disqualification period. Judge Thomson CJ ended his oral judgment with these words: \"...... in my experience the most satisfactory penalty for most motoring offences is disqualification. A fine is paid once and then forgotten. A disqualification means that for 365 days, the accused person is reminded every morning that it is a bad thing to break the law and so where an order for disqualification is made, except of course in serious cases of being drunk in charge or dangerous driving, the quantum of the monetary penalty imposed is of minor importance”.'}\n",
      "{'para_num': 16, 'text': 'The fact that the Accused in this present case has chosen to appeal only against the disqualification period imposed on him, is testament of the correctness of the views held above.'}\n",
      "{'para_num': 17, 'text': 'It is imperative for a motorist to obey traffic light signals. This must be one of the most fundamental rules of driving for any motorist. A simple obedience to traffic light signals by motorists is crucial in ensuring traffic order on the roads. In this case, the offence of driving without reasonable consideration committed by the Accused involved an illegality, that of failing to conform to a red light signal, which resulted in a collision with a vehicle who had the right of way. I share Defence Counsel’s thoughts, that fortunately, the taxi driver in this case suffered only slight injuries in this accident.'}\n",
      "{'para_num': 18, 'text': 'I was not particularly impressed with the reasons the Accused gave for his failure to conform to the red light signal. The Accused himself stated that he was familiar with this road as he takes this route to Mount Faber for his training every Sunday morning at about 6 am. Instead of keeping a look-out for the traffic lights as he approached them, being well-aware of them, he allowed himself to be distracted by the people milling on the left side of the road and failed to notice the red traffic light signal in his direction of travel.'}\n",
      "{'para_num': 19, 'text': 'Beating a red light is a non-excusable conduct by any motorist, regardless of the reason. As recognised, “driving is an inherently dangerous activity. It is also a privilege accorded to persons, who through a series of properly administered tests, have demonstrated that they are capable of meeting the standards expected of a reasonably competent driver. Hence, when [one] elects to drive a vehicle, they should expect the law to hold them to these standards”!\"*te: 2], with obeying a traffic light signal being one of the most basic expectations.'}\n",
      "{'para_num': 20, 'text': 'A disqualification order combines three sentencing objectives: punishment, protection of the public and deterrence!note: 3], In the present case, I was of the view that a term of disqualification was warranted. Deterrence would be one of the key objectives in sentencing offences of this nature and an order of disqualification would meet that objective aptly. Section 65(b), RTA provides for a maximum fine of $1000 or to imprisonment for a term not exceeding 6 months, or to both. Given the facts of this case, a fine would suffice. An $800 fine, as the one I have imposed, may be “paid once and forgotten”. It would be the disqualification, with its attendant inconvenience and costs, that would serve to emphasize to the Accused the need to be a more careful and responsible driver on the roads in future.'}\n",
      "{'para_num': 21, 'text': 'Considering the totality of circumstances of this case, I imposed a 3-month disqualification on the Accused, apart from the $800 fine. It is a term of disqualification sufficient to achieve its sentencing objectives, yet not too punishing on the Accused. This term of disqualification is within the range of terms of disqualification generally imposed in the Traffic Court for plead-guilty cases of a similar nature under section 65(b) of the RTA. The sentences imposed in such cases are finely distinguished by the presence of any aggravating or mitigating features, including the injuries of the victims involved.'}\n",
      "{'para_num': 22, 'text': 'The Accused’s driving ban has been stayed, pending the hearing of the appeal, or until such time the appeal lapses.'}\n"
     ]
    }
   ],
   "source": [
    "# case 2\n",
    "c2_text = extract_text_from_pdf(f\"cases/{case2}.pdf\")\n",
    "c2_cleaned_lines = clean_lines(c2_text)\n",
    "c2_paragraph = extract_paragraphs(c2_cleaned_lines)\n",
    "\n",
    "for para in c2_paragraph:\n",
    "    print(para)"
   ]
  },
  {
   "cell_type": "markdown",
   "id": "0e68c7bb",
   "metadata": {},
   "source": [
    "**Goal 3**"
   ]
  },
  {
   "cell_type": "code",
   "execution_count": 21,
   "id": "143e1b16",
   "metadata": {},
   "outputs": [],
   "source": [
    "def extract_paragraphs(cleaned_lines):\n",
    "    paragraphs = []\n",
    "    current = []\n",
    "    header = \"\"\n",
    "    start = False\n",
    "    lines_to_remove = find_number_of_lines_to_be_removed_from_behind(cleaned_lines)\n",
    "\n",
    "    for i in range(len(cleaned_lines)-lines_to_remove):\n",
    "        if cleaned_lines[i].isnumeric() and start == True:\n",
    "            paragraph = {}\n",
    "            paragraph[\"header\"] = header\n",
    "            if current[0].isnumeric():\n",
    "                paragraph[\"para_num\"] = int(current[0])\n",
    "            if cleaned_lines[i-1].strip()[-1] != \".\":\n",
    "                header = current[-1]\n",
    "                paragraph[\"text\"] = \" \".join(current[1:-1])\n",
    "            else:\n",
    "                paragraph[\"text\"] = \" \".join(current[1:])\n",
    "            paragraphs.append(paragraph)\n",
    "            current = []\n",
    "        current.append(cleaned_lines[i])\n",
    "        if cleaned_lines[i].strip()[-1] == \":\" and start == False:\n",
    "            start = True\n",
    "            current = []\n",
    "        \n",
    "    if current:\n",
    "        paragraph = {}\n",
    "        paragraph[\"header\"] = header\n",
    "        paragraph[\"para_num\"] = int(current[0])\n",
    "        paragraph[\"text\"] = \" \".join(current[1:])\n",
    "        paragraphs.append(paragraph) \n",
    "\n",
    "    return paragraphs[1:]  "
   ]
  },
  {
   "cell_type": "markdown",
   "id": "97df65e1",
   "metadata": {},
   "source": [
    "**Case 1**"
   ]
  },
  {
   "cell_type": "code",
   "execution_count": 22,
   "id": "bfa33f32",
   "metadata": {},
   "outputs": [
    {
     "name": "stdout",
     "output_type": "stream",
     "text": [
      "{'header': 'Introduction ', 'para_num': 1, 'text': 'The applicant, Mdm Lee Hui Chin, applied under s 10 of the Arbitration  Act 2001 (2020 Rev Ed) (“AA”) to extend the time fixed by the terms of an  arbitration agreement to refer disputes to arbitration. I granted the application  for the reasons set out below.'}\n",
      "{'header': 'Facts', 'para_num': 2, 'text': 'The applicant was the policyholder of two insurance policies (the  “Policies”) taken out with the respondent, Chubb Insurance Singapore Limited.  The insured person under the Policies was the applicant’s spouse (the  “Deceased”). The Policies provided for Accidental Death Benefits (“ADB”),  which was payable in the event that death occurs as a result of an accidental  injury. The Policies also provided that any dispute was to be referred to  arbitration, and that such arbitration must be commenced three months from the  day such parties were unable to settle the dispute. On 2 April 2021, the Deceased  fell while riding his bicycle and was found unconscious in an uncovered drain.  He was brought to Ng Teng Fong General Hospital (“NTFGH”). He remained  unconscious until he was removed from life support on 9 April 2021, and he  passed away thereafter.'}\n",
      "{'header': 'Facts', 'para_num': 3, 'text': 'According to the Deceased’s daughter Ms Rachel Teng (“Ms Teng”): (a) the treating doctors at NTFGH had said that the Deceased died  as a consequence of the injuries sustained in the accident, and (b) an MRI scan on 4 April 2021 showed a spinal cord injury; the  MRI report also referenced changes in the Deceased’s lungs, chest  fractures, hypoxic-ischemic encephalopathy and cardiac arrest, and  reflected that the matter was referred to the coroner in view of “unknown  aetiology of cardiac arrest in the community”. '}\n",
      "{'header': 'Facts', 'para_num': 4, 'text': 'A death certificate was issued on 10 April 2021, in which the forensic  pathologist certified that the cause of death was “Coronary Artery Disease with  Pneumonia”. The State Coroner (the “Coroner”) issued a certificate on the same  day stating that as the cause of death was due to natural causes, it was  unnecessary to hold an inquiry. Thus, no autopsy was performed.'}\n",
      "{'header': 'Facts', 'para_num': 5, 'text': 'On 20 April 2021, the applicant submitted claims to the respondent  under the Policies. The respondent obtained a report from NTFGH dated 27  May 2021 in which the Attending Physician’s Statement stated that: (a) the primary cause of death was likely cervical spine injury  leading to cardiac arrest; and (b) although the Coroner had reported coronary artery disease with  pneumonia, there was no evidence of acute myocardial infarct on initial  presentation. '}\n",
      "{'header': 'Facts', 'para_num': 6, 'text': 'On 19 August 2021, the respondent rejected the applicant’s claims on  the ground that the cause of the Deceased’s death was due to sickness (ie,  coronary artery disease with pneumonia), which was not covered under the  Policies. '}\n",
      "{'header': 'Facts', 'para_num': 7, 'text': 'Ms Teng then consulted lawyers and obtained a further medical report  dated 7 July 2022 by a neurologist, Dr Ho King Hee (“Dr Ho”). In his opinion: (a) the radiological evidence was consistent with the presence of a  vertebral fracture; (b) with respect to cause of death, the evidence was most consistent  with sudden aspiration, not with community acquired pneumonia;  (c) there was clear evidence that no heart attack (myocardial  infarction) occurred to cause cardiac arrest, and (d) there was no evidence that the Deceased died of coronary artery  disease.  Dr Ho disagreed with the Coroner’s certification that the cause of death was due  to natural causes, noting that no autopsy was performed.'}\n",
      "{'header': 'Facts', 'para_num': 8, 'text': 'On 26 July 2022, Letters of Administration were granted to Ms Teng as  the administratrix of the Deceased’s estate (the “Estate”).  '}\n",
      "{'header': 'Facts', 'para_num': 9, 'text': 'On 26 August 2022, the Estate’s solicitors wrote to the respondent  enclosing a copy of Dr Ho’s report. It is not disputed that the respondent took  time to review the claims and agreed to extend the time bar for commencement  of arbitration until 30 June 2023. '}\n",
      "{'header': 'Facts', 'para_num': 10, 'text': 'On 30 December 2022, the respondent confirmed its previous position  that the claims were not covered by the Policies. '}\n",
      "{'header': 'Facts', 'para_num': 11, 'text': 'On 10 February 2023, Ms Teng filed two notices of arbitration with the  Singapore International Arbitration Centre (“SIAC”) in connection with the two  Policies. On 28 February 2023, the respondent filed its responses to the notices  of arbitration. Among other things, the respondent stated that Ms Teng had no  locus standi. On 31 March 2023, the SIAC Court of Arbitration consolidated  both sets of proceedings. On 19 June 2023, the arbitrator for the consolidated  arbitration proceedings was appointed. '}\n",
      "{'header': 'Facts', 'para_num': 12, 'text': 'The arbitrator called for a preliminary meeting on 28 June 2023. During  that preliminary meeting, Ms Teng’s solicitors applied for leave for the  applicant to be joined as co-claimant in the arbitration. On 6 July 2023, the  respondent objected to the application and requested a dismissal of the  proceedings instead. On 27 July 2023, the arbitrator dismissed the joinder  application on the basis that only the applicant (as the policy holder) had the  locus standi to commence arbitration proceedings against the respondent. '}\n",
      "{'header': 'Facts', 'para_num': 13, 'text': 'On 4 August 2023, the respondent filed an application for the early  dismissal of the arbitration proceedings, and the arbitrator allowed this  application on 15 September 2023. '}\n",
      "{'header': 'Facts', 'para_num': 14, 'text': 'On 6 September 2023, the applicant filed the present application to  extend the time for her to commence arbitration against the respondent.'}\n",
      "{'header': 'The law', 'para_num': 15, 'text': 'Section 10 of the AA reads:  Powers of Court to extend time for beginning of arbitral  proceedings 10.—(1)  Where the terms of an arbitration agreement to refer  future disputes to arbitration provide that a claim to which the  arbitration agreement applies is barred unless — (a) some step has been taken to begin other dispute  resolution procedures which must be exhausted before  arbitral proceedings can be begun; (b) notice to appoint an arbitrator is given; (c) an arbitrator is appointed; or (d) some other step is taken to commence arbitral  proceedings, within a time fixed by the agreement and a dispute to which the  agreement applies has arisen, the Court may, if it is of the  opinion that in the circumstances of the case undue hardship  would otherwise be caused, extend the time for such period and  on such terms as the Court thinks fit. (2)  An order of extension of time made by the Court under  subsection (1) — (a) may be made only after any available arbitral  process for obtaining an extension of time has been  exhausted; (b) may be made even though the time so fixed has  expired; and (c) does not affect the operation of section 9 or 11  or any other written law relating to the limitation of  actions.'}\n",
      "{'header': 'The law', 'para_num': 16, 'text': 'Section 10 of the AA was a substantial re-enactment of s 37 of the  Arbitration Act (Cap 10, 1985 Rev Ed). This was, in turn, in pari materia with  s 27 of the Arbitration Act 1950 (c 27 of 1950) (UK) (“AA 1950 (UK)”).'}\n",
      "{'header': 'The law', 'para_num': 17, 'text': 'In Liberian Shipping Corporation “Pegasus” v A King & Sons Ltd  [1967] 2 QB 86 (“The Pegasus”), the English Court of Appeal considered the  meaning of “undue hardship” in the context of s 27 of the AA 1950 (UK), and  the majority explained (at 98) that:  \"Undue\" there simply means excessive. It means greater  hardship than the circumstances warrant. Even though a  claimant has been at fault himself, it is an undue hardship on  him if the consequences are out of proportion to his fault. This definition of “undue hardship” was endorsed by the Singapore Court of  Appeal decision of Recovery Vehicle 1 Pte Ltd v Industries Chimiques Du  Senegal and another appeal and another matter [2021] 1 SLR 342 at [123],  albeit in a different context (ie, whether an application of the foreign limitation  period would cause undue hardship under the Foreign Limitation Periods Act  (Cap 111A, 2013 Rev Ed)). '}\n",
      "{'header': 'The law', 'para_num': 18, 'text': 'The term “undue hardship” should not be construed too narrowly:  Comdel Commodities Ltd v Siporex Trade S A [1991] 1 AC 148 at 166. Whether  there is “undue hardship” is necessarily dependent on the facts of each case.  Ultimately, the decision involves balancing the hardship that would be caused  to the applicant (if an extension of time is refused) against the fact that the  respondent would lose the protection of a contractual limitation period (if an  extension of time is granted). '}\n",
      "{'header': 'The law', 'para_num': 19, 'text': 'That said, the following non-exhaustive factors are likely to be relevant: (a) the reasons for the delay in commencing arbitration; in this  regard, the degree of fault on the applicant’s part is relevant but not  necessarily fatal; (b) the duration of the delay in making the application for extension  of time; (c) the value of the dispute;  (d) whether the intended claim can be said to be obviously  unsustainable such that granting an extension of time would be  pointless; an extension of time should not be denied on this ground save  in an obvious case; and  (e) whether the respondent has taken any steps in reliance of the fact  that the contractual limitation period has expired and if so, the prejudice  that would be suffered by the respondent if an extension of time is  granted.'}\n",
      "{'header': 'My decision ', 'para_num': 20, 'text': 'I granted the application for an extension of time for the applicant to  commence arbitration proceedings against the respondent for the following  reasons. '}\n",
      "{'header': 'My decision ', 'para_num': 21, 'text': 'First, this was not a case in which the applicant had sat idly by.  Arbitration was commenced well before the expiry of the extended time bar of  30 June 2023. The problem was that the arbitration notices were issued in Ms  Teng’s name instead of the applicant’s. The respondent pointed out that it had  objected to Ms Teng’s standing in its responses to the notices of arbitration  dated 28 February 2023, but Ms Teng’s lawyers applied to join the applicant  only on 28 June 2023. The respondent submitted that the applicant should have  commenced fresh arbitration proceedings in her own name before the extended  time bar expired; alternatively, the joinder application should have been made  earlier and the applicant could then have commenced fresh arbitrations  proceedings after the joinder application was dismissed. '}\n",
      "{'header': 'My decision ', 'para_num': 22, 'text': \"I accepted that the acts or omissions by Ms Teng's lawyers should be  attributed to the applicant in this case. However, in my view, there were two  mitigating factors: (a) there was an element of hindsight in the respondent’s  submissions, and (b) I noted that the arbitrator for the consolidated arbitration  proceedings was appointed only on 19 June 2023. At the end of the day, in my  view, refusing an extension of time in this case would result in hardship to the  applicant that was out of proportion to whatever fault that was attributable to  her.\"}\n",
      "{'header': 'My decision ', 'para_num': 23, 'text': 'Second, in my view, the applicant had acted expeditiously in filing the  present application. The extended time bar expired after 30 June 2023.  However, it should be noted that the arbitrator dismissed the joinder application  on 27 July 2023, the application for early dismissal of the arbitration  proceedings was made on 4 August 2023 and the order dismissing the  arbitration proceedings was made on 15 September 2023, ie, after this  application was filed on 6 September 2023. '}\n",
      "{'header': 'My decision ', 'para_num': 24, 'text': 'Third, the amount involved was significant. The value of the claims  under the Policies amounted to $406,000.'}\n",
      "{'header': 'My decision ', 'para_num': 25, 'text': 'Fourth, in the light of Dr Ho’s opinion, it was by no means clear that the  applicant’s claims were obviously unsustainable. '}\n",
      "{'header': 'My decision ', 'para_num': 26, 'text': 'Fifth, there was no evidence that the respondent had taken any step in  reliance of the fact that the extended time bar had expired. '}\n",
      "{'header': 'My decision ', 'para_num': 27, 'text': 'In my view, the hardship that would be caused to the applicant, if an  extension of time was not granted, far outweighed the fact that granting the  extension of time would deprive the respondent of its contractual time bar. '}\n",
      "{'header': 'Conclusion', 'para_num': 28, 'text': ' For the reasons above, I allowed the application. The applicant agreed  that it should be liable to the respondent for the costs of this application.  Accordingly, I ordered the applicant to pay costs to the respondent fixed at  $10,000, including disbursements. '}\n"
     ]
    }
   ],
   "source": [
    "# case 1\n",
    "c1_text = extract_text_from_pdf(f\"cases/{case1}.pdf\")\n",
    "c1_cleaned_lines = clean_lines(c1_text)\n",
    "c1_paragraph = extract_paragraphs(c1_cleaned_lines)\n",
    "\n",
    "for para in c1_paragraph:\n",
    "    print(para)"
   ]
  },
  {
   "cell_type": "markdown",
   "id": "23fd1b6d",
   "metadata": {},
   "source": [
    "**Case 2**"
   ]
  },
  {
   "cell_type": "code",
   "execution_count": 23,
   "id": "9781ae23",
   "metadata": {},
   "outputs": [
    {
     "name": "stdout",
     "output_type": "stream",
     "text": [
      "{'header': 'Introduction', 'para_num': 1, 'text': 'The Accused, 48 years old, pleaded guilty to a charge under section 65(b) of the Road Traffic Act (RTA), Chapter 276, in that he: “did drive motorcar SJP 8123Z, at the junction of River Valley Road by Hoot Kiam Road, Singapore, without reasonable consideration for other persons using the road, to wit, by failing to conform to the red light signal whilst going straight along River Valley Road by Zion Road, and resulting in a collision with motor taxi SHC 2261P, which was travelling from [his] left to right along Zion Road........”.'}\n",
      "{'header': 'Introduction', 'para_num': 2, 'text': 'This offence under section 65(b), RTA is punishable with a fine not exceeding $1,000 or to imprisonment for a term not exceeding 6 months or to both.'}\n",
      "{'header': 'Introduction', 'para_num': 3, 'text': 'I fined the Accused a sum of $800 (in default 5 days’ imprisonment) and imposed a disqualification of 3 months on all classes of licences on him. The Accused is dissatisfied with the order of disqualification and is appealing against it.'}\n",
      "{'header': 'Facts', 'para_num': 4, 'text': 'This accident happened on 13 April 2014, at about 6:19 am.'}\n",
      "{'header': 'Facts', 'para_num': 5, 'text': 'When the Accused failed to conform to the red light signal as he was driving his vehicle, going straight along River Valley Road, it resulted in a collision with a taxi which was travelling from the Accused’s left to right along Zion Road. The in-car video footage from the taxi showed that the taxi was proceeding straight across the junction on a green light in his direction. On impact, the traffic light was still showing red in the direction of travel of the Accused. There was no report of any malfunction of the traffic lights at the junction.'}\n",
      "{'header': 'Facts', 'para_num': 6, 'text': 'As a result of the collision, the taxi driver, a 44 year-old Mr Hong Wai Kit, suffered muscle sprains on his neck, right shoulder and right lower back. He sought his own medical attention and was given 3 days of medical leave. Where property damage was concerned, the front portion of the taxi was damaged. As for the Accused’s vehicle, it was dented in the front.'}\n",
      "{'header': 'Facts', 'para_num': 7, 'text': 'At the time of the accident, the weather was fine and road surface was dry. Traffic flow was light and the visibility was clear.'}\n",
      "{'header': 'Mitigation', 'para_num': 8, 'text': 'The Accused, a first offender, through his Defence Counsel, informed the Court he had slowed down as he approached the junction. As far as he could remember, the traffic light signal was green. At paragraph 6 of the mitigation, the Defence Counsel stated that the Accused “was paying close attention to the people milling at the left side of the road ahead”. As he travelled across the junction slowly, he heard a screeching sound and noticed a vehicle coming from his left (Zion Road). The Accused swerved to the right but could not avoid the collision. Accused “was distracted by the people milling on the other side of River Valley Road and he might not have noticed that the traffic light had turned red for his side when he entered the junction”.'}\n",
      "{'header': 'Mitigation', 'para_num': 9, 'text': 'Defence Counsel mitigated that the accident had occurred due to a momentary lapse in observation and emphasized that the Accused was not driving recklessly or taking unnecessary risks. The Accused had always been a careful and skilful driver. He was not speeding. Counsel added that ironically, the Accused was trying to be careful and was looking out for people along the road side before he entered the junction. The Accused knows he could have kept a better look out and is sorry for what had happened.'}\n",
      "{'header': 'Mitigation', 'para_num': 10, 'text': 'In seeking to persuade the Court not to impose a disqualification on the Accused, Defence Counsel informed the Court that the Accused, a person actively involved in social and charitable causes, drives everywhere to attend to his busy itinerary of work, social and community activities. Driving himself around saves him valuable time. Defence Counsel submitted that the Accused’s work and philanthropic activities would be seriously hampered if the Accused were to suffer a driving disqualification.'}\n",
      "{'header': 'Mitigation', 'para_num': 11, 'text': 'Lastly, Defence Counsel stressed that there were no aggravating factors and that the Accused’s driving was not so grossly inattentive or inconsiderate as to warrant any punishment other than an appropriate fine.'}\n",
      "{'header': 'The Order of Disqualification', 'para_num': 12, 'text': 'The Prosecution had no submission on sentence. In addition to the fine of $800, I ordered the Accused to be disqualified from driving for a period of 3 months. Even though not mandatory, I was of the view that a term of disqualification was necessary as part of the sentence to be imposed for this offence.'}\n",
      "{'header': 'The Order of Disqualification', 'para_num': 13, 'text': 'The discretion to impose an order of disqualification is derived from Section 42 of the Road Traffic Act. Section 42, RTA states that a court may order a disqualification on a person who “is convicted of any offence in connection with the driving of a motor vehicle”. In considering the appropriate sentence for a person convicted of any offence connected with the driving of a motor vehicle, it must be accepted that the statute provides for an order of disqualification to be a clear sentencing option for a court dealing with driving offences. This should also be the realistic expectation of accused persons as they come before the Court on a charge connected with the driving of a motor vehicle - that an order of disqualification may certainly be an integral component of the total sentence which the Court may eventually impose.'}\n",
      "{'header': 'The Order of Disqualification', 'para_num': 14, 'text': 'Whilst the sentence of a fine or a jail term when meted out for these offences will certainly serve its objective, it has been suggested that an order of disqualification is a power which may be “employ[ed] more frequently, since it is disqualification which the motorist fears rather than a fine. Disqualification serves a double purpose, in that it is firstly, the punishment most feared by the motorist and therefore the most effective deterrent, and secondly, it keeps the careless of dangerous driver off the road for a period and does that practical amount of good”, .'}\n",
      "{'header': 'The Order of Disqualification', 'para_num': 15, 'text': 'A similar sentiment was expressed in the case of Public Prosecutor v Mohd Isa [1963] MLJ 135. This was a case which involved a mandatory 1-year disqualification period. Judge Thomson CJ ended his oral judgment with these words: \"...... in my experience the most satisfactory penalty for most motoring offences is disqualification. A fine is paid once and then forgotten. A disqualification means that for 365 days, the accused person is reminded every morning that it is a bad thing to break the law and so where an order for disqualification is made, except of course in serious cases of being drunk in charge or dangerous driving, the quantum of the monetary penalty imposed is of minor importance”.'}\n",
      "{'header': 'The Order of Disqualification', 'para_num': 16, 'text': 'The fact that the Accused in this present case has chosen to appeal only against the disqualification period imposed on him, is testament of the correctness of the views held above.'}\n",
      "{'header': 'Should the Accused be disqualified?', 'para_num': 17, 'text': 'It is imperative for a motorist to obey traffic light signals. This must be one of the most fundamental rules of driving for any motorist. A simple obedience to traffic light signals by motorists is crucial in ensuring traffic order on the roads. In this case, the offence of driving without reasonable consideration committed by the Accused involved an illegality, that of failing to conform to a red light signal, which resulted in a collision with a vehicle who had the right of way. I share Defence Counsel’s thoughts, that fortunately, the taxi driver in this case suffered only slight injuries in this accident.'}\n",
      "{'header': 'Should the Accused be disqualified?', 'para_num': 18, 'text': 'I was not particularly impressed with the reasons the Accused gave for his failure to conform to the red light signal. The Accused himself stated that he was familiar with this road as he takes this route to Mount Faber for his training every Sunday morning at about 6 am. Instead of keeping a look-out for the traffic lights as he approached them, being well-aware of them, he allowed himself to be distracted by the people milling on the left side of the road and failed to notice the red traffic light signal in his direction of travel.'}\n",
      "{'header': 'Should the Accused be disqualified?', 'para_num': 19, 'text': 'Beating a red light is a non-excusable conduct by any motorist, regardless of the reason. As recognised, “driving is an inherently dangerous activity. It is also a privilege accorded to persons, who through a series of properly administered tests, have demonstrated that they are capable of meeting the standards expected of a reasonably competent driver. Hence, when [one] elects to drive a vehicle, they should expect the law to hold them to these standards”!\"*te: 2], with obeying a traffic light signal being one of the most basic expectations.'}\n",
      "{'header': 'Should the Accused be disqualified?', 'para_num': 20, 'text': 'A disqualification order combines three sentencing objectives: punishment, protection of the public and deterrence!note: 3], In the present case, I was of the view that a term of disqualification was warranted. Deterrence would be one of the key objectives in sentencing offences of this nature and an order of disqualification would meet that objective aptly. Section 65(b), RTA provides for a maximum fine of $1000 or to imprisonment for a term not exceeding 6 months, or to both. Given the facts of this case, a fine would suffice. An $800 fine, as the one I have imposed, may be “paid once and forgotten”. It would be the disqualification, with its attendant inconvenience and costs, that would serve to emphasize to the Accused the need to be a more careful and responsible driver on the roads in future.'}\n",
      "{'header': 'Conclusion', 'para_num': 21, 'text': 'Considering the totality of circumstances of this case, I imposed a 3-month disqualification on the Accused, apart from the $800 fine. It is a term of disqualification sufficient to achieve its sentencing objectives, yet not too punishing on the Accused. This term of disqualification is within the range of terms of disqualification generally imposed in the Traffic Court for plead-guilty cases of a similar nature under section 65(b) of the RTA. The sentences imposed in such cases are finely distinguished by the presence of any aggravating or mitigating features, including the injuries of the victims involved.'}\n",
      "{'header': 'Conclusion', 'para_num': 22, 'text': 'The Accused’s driving ban has been stayed, pending the hearing of the appeal, or until such time the appeal lapses.'}\n"
     ]
    }
   ],
   "source": [
    "# case 2\n",
    "c2_text = extract_text_from_pdf(f\"cases/{case2}.pdf\")\n",
    "c2_cleaned_lines = clean_lines(c2_text)\n",
    "c2_paragraph = extract_paragraphs(c2_cleaned_lines)\n",
    "\n",
    "for para in c2_paragraph:\n",
    "    print(para)"
   ]
  }
 ],
 "metadata": {
  "kernelspec": {
   "display_name": "Python 3",
   "language": "python",
   "name": "python3"
  },
  "language_info": {
   "codemirror_mode": {
    "name": "ipython",
    "version": 3
   },
   "file_extension": ".py",
   "mimetype": "text/x-python",
   "name": "python",
   "nbconvert_exporter": "python",
   "pygments_lexer": "ipython3",
   "version": "3.11.4"
  }
 },
 "nbformat": 4,
 "nbformat_minor": 5
}
